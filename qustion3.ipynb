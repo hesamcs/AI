{
  "cells": [
    {
      "cell_type": "markdown",
      "metadata": {
        "id": "view-in-github",
        "colab_type": "text"
      },
      "source": [
        "<a href=\"https://colab.research.google.com/github/hesamcs/AI/blob/main/qustion3.ipynb\" target=\"_parent\"><img src=\"https://colab.research.google.com/assets/colab-badge.svg\" alt=\"Open In Colab\"/></a>"
      ]
    },
    {
      "cell_type": "markdown",
      "metadata": {
        "id": "WJdCDJWkeBwj"
      },
      "source": [
        "#initial library"
      ]
    },
    {
      "cell_type": "code",
      "execution_count": 1,
      "metadata": {
        "id": "ubO-R9JYdUXR"
      },
      "outputs": [],
      "source": [
        "import numpy as np\n",
        "from scipy.io.wavfile import read , write\n",
        "import matplotlib.pyplot as plt\n",
        "from os import listdir as name_file\n",
        "import os"
      ]
    },
    {
      "cell_type": "code",
      "execution_count": 2,
      "metadata": {
        "colab": {
          "base_uri": "https://localhost:8080/"
        },
        "id": "HUcmkgb7jC5o",
        "outputId": "f155bd8a-8ee2-4a95-e103-79bc13fdab4f"
      },
      "outputs": [
        {
          "output_type": "stream",
          "name": "stdout",
          "text": [
            "Mounted at /content/drive\n"
          ]
        }
      ],
      "source": [
        "from google.colab import drive\n",
        "drive.mount('/content/drive')"
      ]
    },
    {
      "cell_type": "markdown",
      "metadata": {
        "id": "zthynEHyexyi"
      },
      "source": [
        "## read 50 first files"
      ]
    },
    {
      "cell_type": "code",
      "execution_count": null,
      "metadata": {
        "id": "qYt7bzGqewm2"
      },
      "outputs": [],
      "source": [
        "files_train={}\n",
        "size_train={}\n",
        "help2_train=[]\n",
        "test={}\n",
        "for J in range(10):\n",
        "  names=[]\n",
        "  help2=[]\n",
        "  names=name_file(\"/content/drive/MyDrive/hw3_hesam_saki/TrainSet_question3/\"+str(J))\n",
        "  for i in names:\n",
        "    _,help=read(\"/content/drive/MyDrive/hw3_hesam_saki/TrainSet_question3/\"+str(J)+\"/\"+i)\n",
        "    files_train[str(J)+i]=help\n",
        "    help2_train.append(len(help))\n",
        "  size_train[str(J)]=help2_train\n",
        "  \n"
      ]
    },
    {
      "cell_type": "code",
      "execution_count": null,
      "metadata": {
        "id": "kqFGkMirfzM3"
      },
      "outputs": [],
      "source": [
        "max_size_train=[]\n",
        "for i in range(10):\n",
        "  max_size_train.append(max(size_train[str(i)]))\n",
        "main_max_train=max(max_size_train)"
      ]
    },
    {
      "cell_type": "code",
      "execution_count": null,
      "metadata": {
        "id": "eviM7sYGkOvf"
      },
      "outputs": [],
      "source": [
        "main_max_train"
      ]
    },
    {
      "cell_type": "markdown",
      "metadata": {
        "id": "MMkTTdxRxuC-"
      },
      "source": [
        "## read test files"
      ]
    },
    {
      "cell_type": "code",
      "execution_count": null,
      "metadata": {
        "id": "PMj8zj9QryAO"
      },
      "outputs": [],
      "source": [
        "files_test={}\n",
        "size_test={}\n",
        "help2_test=[]\n",
        "for J in range(10):\n",
        "  names=[]\n",
        "  help2=[]\n",
        "  names=name_file(\"/content/drive/MyDrive/hw3_hesam_saki/TestSet/\"+str(J))\n",
        "  for i in names:\n",
        "    _,help=read(\"/content/drive/MyDrive/hw3_hesam_saki/TestSet/\"+str(J)+\"/\"+i)\n",
        "    files_test[str(J)+i]=help\n",
        "    help2_test.append(len(help))\n",
        "  size_test[str(J)]=help2_test\n",
        "  "
      ]
    },
    {
      "cell_type": "code",
      "execution_count": null,
      "metadata": {
        "id": "oKDRXcHHx_w0"
      },
      "outputs": [],
      "source": [
        "max_size_test=[]\n",
        "for i in range(10):\n",
        "  max_size_test.append(max(size_test[str(i)]))\n",
        "main_max_test=max(max_size_test)"
      ]
    },
    {
      "cell_type": "code",
      "execution_count": null,
      "metadata": {
        "id": "BhhxZEciy3bq"
      },
      "outputs": [],
      "source": [
        "main_max_test"
      ]
    },
    {
      "cell_type": "markdown",
      "metadata": {
        "id": "H3kO5Yw3067j"
      },
      "source": [
        "## find main max in train and test"
      ]
    },
    {
      "cell_type": "code",
      "execution_count": null,
      "metadata": {
        "id": "kR3rRSjn04Ka"
      },
      "outputs": [],
      "source": [
        "main_max=max(main_max_test,main_max_train)\n",
        "main_max"
      ]
    },
    {
      "cell_type": "markdown",
      "metadata": {
        "id": "F3OER4Js4H6J"
      },
      "source": [
        "## diffrent max and create same size"
      ]
    },
    {
      "cell_type": "code",
      "execution_count": null,
      "metadata": {
        "id": "JTWqk1lr6GQN"
      },
      "outputs": [],
      "source": [
        "for k,v in files_train.items():\n",
        "  value=v\n",
        "  help=int(((main_max-len(files_train[k]))/2))\n",
        "  help2=np.zeros(main_max)\n",
        "  help2[help:help+len(v)]=v\n",
        "  files_train[k]=help2"
      ]
    },
    {
      "cell_type": "code",
      "execution_count": null,
      "metadata": {
        "id": "qimwZw7CcfXU"
      },
      "outputs": [],
      "source": [
        "for k,v in files_test.items():\n",
        "  value=v\n",
        "  help=int(((main_max-len(files_test[k]))/2))\n",
        "  help2=np.zeros(main_max)\n",
        "  help2[help:help+len(v)]=v\n",
        "  files_test[k]=help2"
      ]
    },
    {
      "cell_type": "markdown",
      "metadata": {
        "id": "mrRjZhUBBwsL"
      },
      "source": [
        "# implement knn"
      ]
    },
    {
      "cell_type": "code",
      "execution_count": null,
      "metadata": {
        "id": "wDAKDEqzTkI0"
      },
      "outputs": [],
      "source": [
        "import numpy as np\n",
        "from collections import Counter\n",
        "def dist(x1,x2):\n",
        "  # print(x1,x2)\n",
        "  return np.sqrt(np.sum((x1-x2)**2))\n",
        "\n",
        "class KNN():\n",
        "  def __init__(self,k=3):\n",
        "    self.k=k\n",
        "  def fit(self,x,y):\n",
        "    self.x=x\n",
        "    self.y=y\n",
        "  def predict(self,x_new):\n",
        "    predict_labels=[self._predict(x) for x in x_new]\n",
        "    return np.array(predict_labels)\n",
        "  def _predict(self,x):\n",
        "    # compute distance\n",
        "    distance=[dist(x,train_x) for train_x in self.x]\n",
        "    # print(distance)\n",
        "    # k nearest \n",
        "    k_near=np.argsort(distance)[:self.k]\n",
        "    # print(k_near)\n",
        "    k_lable=[self.y[i] for i in k_near]\n",
        "    #most_common\n",
        "    most_common=Counter(k_lable).most_common(1)\n",
        "    return most_common[0][0]"
      ]
    },
    {
      "cell_type": "code",
      "execution_count": null,
      "metadata": {
        "id": "eO7-M1lE1GKL"
      },
      "outputs": [],
      "source": [
        "import numpy as np\n",
        "from sklearn import datasets\n",
        "from sklearn.model_selection import train_test_split\n",
        "\n",
        "\n",
        "iris=datasets.load_iris()\n",
        "x,y=iris.data , iris.target\n",
        "\n",
        "x_train,x_test,y_train,y_test=train_test_split(x,y,test_size=0.2,random_state=1234)\n"
      ]
    },
    {
      "cell_type": "code",
      "execution_count": null,
      "metadata": {
        "id": "PbeC8w051KQc"
      },
      "outputs": [],
      "source": [
        "model=KNN()\n",
        "model.fit(x_train,y_train)\n",
        "pre=model.predict(x_test)\n",
        "pre"
      ]
    },
    {
      "cell_type": "code",
      "execution_count": null,
      "metadata": {
        "id": "_isLJrOoCPtM"
      },
      "outputs": [],
      "source": [
        "y_test"
      ]
    },
    {
      "cell_type": "code",
      "execution_count": null,
      "metadata": {
        "id": "o5E-Qgd7pCzN"
      },
      "outputs": [],
      "source": [
        "(sum(y_test==pre))/len(y_test)"
      ]
    },
    {
      "cell_type": "markdown",
      "metadata": {
        "id": "46I9BWxqPFI3"
      },
      "source": [
        "## feature selecting"
      ]
    },
    {
      "cell_type": "code",
      "execution_count": null,
      "metadata": {
        "id": "MDcBdaTMr7z-"
      },
      "outputs": [],
      "source": [
        "! pip install librosa"
      ]
    },
    {
      "cell_type": "code",
      "execution_count": null,
      "metadata": {
        "id": "uTZlhhATSyH4"
      },
      "outputs": [],
      "source": [
        "files_train.items()"
      ]
    },
    {
      "cell_type": "code",
      "execution_count": null,
      "metadata": {
        "id": "L8YllpEzcyYO"
      },
      "outputs": [],
      "source": [
        "#train\n",
        "\n",
        "\n",
        "counter_train=np.ones(10)\n",
        "c_0=0\n",
        "c_1=0\n",
        "c_2=0\n",
        "c_3=0\n",
        "c_4=0\n",
        "c_5=0\n",
        "c_6=0\n",
        "c_7=0\n",
        "c_8=0\n",
        "c_9=0\n",
        "for k,v in files_train.items():\n",
        "  if k[0]=='0':\n",
        "    c_0=c_0+1\n",
        "    counter_train[0]=c_0\n",
        "  elif k[0]=='1':\n",
        "    c_1=c_1+1\n",
        "    counter_train[1]=c_1\n",
        "  elif k[0]=='2':\n",
        "    c_2=c_2+1\n",
        "    counter_train[2]=c_2\n",
        "  elif k[0]=='3':\n",
        "    c_3=c_3+1\n",
        "    counter_train[3]=c_3\n",
        "  elif k[0]=='4':\n",
        "    c_4=c_4+1\n",
        "    counter_train[4]=c_4\n",
        "  elif k[0]=='5':\n",
        "    c_5=c_5+1\n",
        "    counter_train[5]=c_5\n",
        "  elif k[0]=='6':\n",
        "    c_6=c_6+1\n",
        "    counter_train[6]=c_6\n",
        "  elif k[0]=='7':\n",
        "    c_7=c_7+1\n",
        "    counter_train[7]=c_7\n",
        "  elif k[0]=='8':\n",
        "    c_8=c_8+1\n",
        "    counter_train[8]=c_8\n",
        "  elif k[0]=='9':\n",
        "    c_9=c_9+1\n",
        "    counter_train[9]=c_9\n",
        "\n",
        "#test\n",
        "\n",
        "counter_test=np.ones(10)\n",
        "c_0=0\n",
        "c_1=0\n",
        "c_2=0\n",
        "c_3=0\n",
        "c_4=0\n",
        "c_5=0\n",
        "c_6=0\n",
        "c_7=0\n",
        "c_8=0\n",
        "c_9=0\n",
        "for k,v in files_test.items():\n",
        "  if k[0]=='0':\n",
        "    c_0=c_0+1\n",
        "    counter_test[0]=c_0\n",
        "  elif k[0]=='1':\n",
        "    c_1=c_1+1\n",
        "    counter_test[1]=c_1\n",
        "  elif k[0]=='2':\n",
        "    c_2=c_2+1\n",
        "    counter_test[2]=c_2\n",
        "  elif k[0]=='3':\n",
        "    c_3=c_3+1\n",
        "    counter_test[3]=c_3\n",
        "  elif k[0]=='4':\n",
        "    c_4=c_4+1\n",
        "    counter_test[4]=c_4\n",
        "  elif k[0]=='5':\n",
        "    c_5=c_5+1\n",
        "    counter_test[5]=c_5\n",
        "  elif k[0]=='6':\n",
        "    c_6=c_6+1\n",
        "    counter_test[6]=c_6\n",
        "  elif k[0]=='7':\n",
        "    c_7=c_7+1\n",
        "    counter_test[7]=c_7\n",
        "  elif k[0]=='8':\n",
        "    c_8=c_8+1\n",
        "    counter_test[8]=c_8\n",
        "  elif k[0]=='9':\n",
        "    c_9=c_9+1\n",
        "    counter_test[9]=c_9\n",
        "\n",
        "\n",
        "print((counter_train))\n",
        "print((counter_test))"
      ]
    },
    {
      "cell_type": "code",
      "execution_count": null,
      "metadata": {
        "id": "Sxbp8MXo8ZR5"
      },
      "outputs": [],
      "source": [
        "files_test.items()"
      ]
    },
    {
      "cell_type": "code",
      "execution_count": null,
      "metadata": {
        "id": "Gh8nAO0oJvYf"
      },
      "outputs": [],
      "source": [
        "import librosa\n",
        "files_train_concatenate={}\n",
        "counter=counter_train[0]\n",
        "c=0\n",
        "for k,v in files_train.items():\n",
        "  mfcc=librosa.feature.mfcc(v, n_mfcc=12, n_mels=24, win_length=20)\n",
        "  mfcc_delta=librosa.feature.delta(mfcc, order=1)\n",
        "  mfcc_delta_delta=librosa.feature.delta(mfcc, order=2)\n",
        "  files_train_concatenate[k[0]+\"-\"+str(int(counter))]=np.concatenate((mfcc,mfcc_delta,mfcc_delta_delta))\n",
        "  if counter==0:\n",
        "    c=c+1\n",
        "    counter=counter_train[c]\n",
        "  counter=counter-1\n",
        "\n",
        "\n"
      ]
    },
    {
      "cell_type": "code",
      "execution_count": null,
      "metadata": {
        "id": "lFu6Ze73_iGY"
      },
      "outputs": [],
      "source": [
        "np.shape(files_train_concatenate[\"0-50\"])"
      ]
    },
    {
      "cell_type": "code",
      "execution_count": null,
      "metadata": {
        "id": "I-4TPEyqYZK5"
      },
      "outputs": [],
      "source": [
        "files_test_concatenate={}\n",
        "counter=counter_test[0]\n",
        "c=0\n",
        "for k,v in files_test.items():\n",
        "  mfcc=librosa.feature.mfcc(v, n_mfcc=12, n_mels=24, win_length=20)\n",
        "  mfcc_delta=librosa.feature.delta(mfcc, order=1)\n",
        "  mfcc_delta_delta=librosa.feature.delta(mfcc, order=2)\n",
        "  files_test_concatenate[k[0]+\"-\"+str(int(counter))]=np.concatenate((mfcc,mfcc_delta,mfcc_delta_delta))\n",
        "  if counter==0:\n",
        "    c=c+1\n",
        "    counter=counter_test[c]\n",
        "  counter=counter-1"
      ]
    },
    {
      "cell_type": "code",
      "execution_count": null,
      "metadata": {
        "id": "Ku4_U6fgBhdZ"
      },
      "outputs": [],
      "source": [
        "np.shape(files_test_concatenate[\"0-26\"])"
      ]
    },
    {
      "cell_type": "markdown",
      "source": [
        "# create train dataset"
      ],
      "metadata": {
        "id": "Mp8SDFdoPkO7"
      }
    },
    {
      "cell_type": "code",
      "execution_count": null,
      "metadata": {
        "id": "ekcbFpBPnIYV"
      },
      "outputs": [],
      "source": [
        "train_x_dataset=[]\n",
        "train_y_dataset=[]\n",
        "for k,v in files_train_concatenate.items():\n",
        "  \n",
        "  train_x_dataset.append(v)\n",
        "  train_y_dataset.append(int(k[0]))\n",
        "train_x_datase=np.array(train_x_dataset)\n",
        "train_y_datase=np.array(train_y_dataset)"
      ]
    },
    {
      "cell_type": "code",
      "source": [
        "len(train_y_datase)"
      ],
      "metadata": {
        "id": "cIPLxxNvQ2kQ"
      },
      "execution_count": null,
      "outputs": []
    },
    {
      "cell_type": "code",
      "source": [
        "len(train_x_dataset)"
      ],
      "metadata": {
        "id": "wptADr7EQ_x4"
      },
      "execution_count": null,
      "outputs": []
    },
    {
      "cell_type": "code",
      "source": [
        "test_x_dataset=[]\n",
        "test_y_dataset=[]\n",
        "for k,v in files_test_concatenate.items():\n",
        "  \n",
        "  test_x_dataset.append(v)\n",
        "  test_y_dataset.append(int(k[0]))\n",
        "test_x_datase=np.array(test_x_dataset)\n",
        "test_y_datase=np.array(test_y_dataset)"
      ],
      "metadata": {
        "id": "AaleY4zVTjce"
      },
      "execution_count": null,
      "outputs": []
    },
    {
      "cell_type": "code",
      "source": [
        "len(test_y_datase)"
      ],
      "metadata": {
        "id": "0A-I9xZsVkEA"
      },
      "execution_count": null,
      "outputs": []
    },
    {
      "cell_type": "code",
      "source": [
        "len(test_y_datase)"
      ],
      "metadata": {
        "id": "aDvpX9WbVn8f"
      },
      "execution_count": null,
      "outputs": []
    },
    {
      "cell_type": "markdown",
      "source": [
        "# initial model for MFCC(Mel-Frequency Cepstral Coefficient)"
      ],
      "metadata": {
        "id": "1A-woIraYVQ3"
      }
    },
    {
      "cell_type": "code",
      "source": [
        "model_MFCC=KNN(k=11)\n",
        "model_MFCC.fit(train_x_dataset,train_y_dataset)\n",
        "pre=model_MFCC.predict(test_x_dataset)"
      ],
      "metadata": {
        "id": "fZ1jmVilVqYn"
      },
      "execution_count": null,
      "outputs": []
    },
    {
      "cell_type": "code",
      "source": [
        "acu_11=((sum(pre==test_y_datase))/len(pre))*100\n",
        "acu_11"
      ],
      "metadata": {
        "id": "mXx7oTWUaEld"
      },
      "execution_count": null,
      "outputs": []
    },
    {
      "cell_type": "code",
      "source": [
        "model_MFCC=KNN(k=15)\n",
        "model_MFCC.fit(train_x_dataset,train_y_dataset)\n",
        "pre=model_MFCC.predict(test_x_dataset)"
      ],
      "metadata": {
        "id": "L5gcQJ0CaZbt"
      },
      "execution_count": null,
      "outputs": []
    },
    {
      "cell_type": "code",
      "source": [
        "acu_15=((sum(pre==test_y_datase))/len(pre))*100\n",
        "acu_15"
      ],
      "metadata": {
        "id": "hqEA8P_3btjI"
      },
      "execution_count": null,
      "outputs": []
    },
    {
      "cell_type": "code",
      "source": [
        "model_MFCC=KNN(k=20)\n",
        "model_MFCC.fit(train_x_dataset,train_y_dataset)\n",
        "pre=model_MFCC.predict(test_x_dataset)"
      ],
      "metadata": {
        "id": "XUaO_Yilbw8m"
      },
      "execution_count": null,
      "outputs": []
    },
    {
      "cell_type": "code",
      "source": [
        "acu_20=((sum(pre==test_y_datase))/len(pre))*100\n",
        "acu_20"
      ],
      "metadata": {
        "id": "5BbsLWrXb1s1"
      },
      "execution_count": null,
      "outputs": []
    },
    {
      "cell_type": "code",
      "source": [
        "acu_mfcc=(acu_11+acu_15+acu_20)/3\n",
        "acu_mfcc"
      ],
      "metadata": {
        "id": "XutNDkpUb6HN"
      },
      "execution_count": null,
      "outputs": []
    },
    {
      "cell_type": "markdown",
      "source": [
        "# LPC feature selecting"
      ],
      "metadata": {
        "id": "HrAOcsxtPi68"
      }
    },
    {
      "cell_type": "code",
      "source": [
        "import librosa\n",
        "files_train_concatenate_LPC={}\n",
        "counter=counter_train[0]\n",
        "c=0\n",
        "for k,v in files_train.items():\n",
        "  mfcc=librosa.lpc(v, order=14)\n",
        "  mfcc_delta=librosa.feature.delta(mfcc, order=1)\n",
        "  mfcc_delta_delta=librosa.feature.delta(mfcc, order=2)\n",
        "  files_train_concatenate_LPC[k[0]+\"-\"+str(int(counter))]=np.concatenate((mfcc,mfcc_delta,mfcc_delta_delta))\n",
        "  if counter==0:\n",
        "    c=c+1\n",
        "    counter=counter_train[c]\n",
        "  counter=counter-1\n",
        "\n"
      ],
      "metadata": {
        "id": "4DQdbwrke2NY"
      },
      "execution_count": null,
      "outputs": []
    },
    {
      "cell_type": "code",
      "source": [
        "(files_train_concatenate_LPC[\"0-20\"])\n"
      ],
      "metadata": {
        "id": "MbgO_BkPe7nd"
      },
      "execution_count": null,
      "outputs": []
    },
    {
      "cell_type": "code",
      "source": [
        "files_test_concatenate_LPC={}\n",
        "counter=counter_test[0]\n",
        "c=0\n",
        "for k,v in files_test.items():\n",
        "  mfcc=librosa.lpc(v, order=14)\n",
        "  mfcc_delta=librosa.feature.delta(mfcc, order=1)\n",
        "  mfcc_delta_delta=librosa.feature.delta(mfcc, order=2)\n",
        "  files_test_concatenate_LPC[k[0]+\"-\"+str(int(counter))]=np.concatenate((mfcc,mfcc_delta,mfcc_delta_delta))\n",
        "  if counter==0:\n",
        "    c=c+1\n",
        "    counter=counter_test[c]\n",
        "  counter=counter-1"
      ],
      "metadata": {
        "id": "3McYAyInRGys"
      },
      "execution_count": null,
      "outputs": []
    },
    {
      "cell_type": "code",
      "source": [
        "len(files_test_concatenate_LPC)"
      ],
      "metadata": {
        "id": "dYQtTdCWRvuL"
      },
      "execution_count": null,
      "outputs": []
    },
    {
      "cell_type": "markdown",
      "source": [
        "#  create train dataset"
      ],
      "metadata": {
        "id": "I1wXsoNiSH7F"
      }
    },
    {
      "cell_type": "code",
      "source": [
        "train_x_dataset_LPC=[]\n",
        "train_y_dataset_LPC=[]\n",
        "for k,v in files_train_concatenate_LPC.items():\n",
        "  \n",
        "  train_x_dataset_LPC.append(v)\n",
        "  train_y_dataset_LPC.append(int(k[0]))\n",
        "train_x_dataset_LPC=np.array(train_x_dataset_LPC)\n",
        "train_y_dataset_LPC=np.array(train_y_dataset_LPC)"
      ],
      "metadata": {
        "id": "Q6VALpLWR7Kr"
      },
      "execution_count": null,
      "outputs": []
    },
    {
      "cell_type": "code",
      "source": [
        "np.shape(train_x_dataset_LPC)"
      ],
      "metadata": {
        "id": "j757IMhDSn2l"
      },
      "execution_count": null,
      "outputs": []
    },
    {
      "cell_type": "code",
      "source": [
        "len(train_y_dataset_LPC)"
      ],
      "metadata": {
        "id": "V2SSExH4SuEz"
      },
      "execution_count": null,
      "outputs": []
    },
    {
      "cell_type": "code",
      "source": [
        "test_x_dataset_LPC=[]\n",
        "test_y_dataset_LPC=[]\n",
        "for k,v in files_test_concatenate_LPC.items():\n",
        "  \n",
        "  test_x_dataset_LPC.append(v)\n",
        "  test_y_dataset_LPC.append(int(k[0]))\n",
        "test_x_dataset_LPC=np.array(test_x_dataset_LPC)\n",
        "test_y_dataset_LPC=np.array(test_y_dataset_LPC)"
      ],
      "metadata": {
        "id": "HF405DamS396"
      },
      "execution_count": null,
      "outputs": []
    },
    {
      "cell_type": "code",
      "source": [
        "len(test_x_dataset_LPC)"
      ],
      "metadata": {
        "id": "Hjn_S1cyTVBK"
      },
      "execution_count": null,
      "outputs": []
    },
    {
      "cell_type": "markdown",
      "source": [
        "#  initial model for LPC(Linear Predictive Coding)"
      ],
      "metadata": {
        "id": "50FAuaBNT2qT"
      }
    },
    {
      "cell_type": "code",
      "source": [
        "model_LPC=KNN(k=11)\n",
        "model_LPC.fit(train_x_dataset_LPC,train_y_dataset_LPC)\n",
        "pre=model_LPC.predict(test_x_dataset_LPC)"
      ],
      "metadata": {
        "id": "5COAnmxKTZ0i"
      },
      "execution_count": null,
      "outputs": []
    },
    {
      "cell_type": "code",
      "source": [
        "acu_11=((sum(pre==test_y_dataset_LPC))/len(pre))*100\n",
        "acu_11"
      ],
      "metadata": {
        "id": "Hh0jTxjsUqoD"
      },
      "execution_count": null,
      "outputs": []
    },
    {
      "cell_type": "code",
      "source": [
        "model_LPC=KNN(k=15)\n",
        "model_LPC.fit(train_x_dataset_LPC,train_y_dataset_LPC)\n",
        "pre=model_LPC.predict(test_x_dataset_LPC)"
      ],
      "metadata": {
        "id": "6MpNNMoJVUHK"
      },
      "execution_count": null,
      "outputs": []
    },
    {
      "cell_type": "code",
      "source": [
        "acu_15=((sum(pre==test_y_dataset_LPC))/len(pre))*100\n",
        "acu_15"
      ],
      "metadata": {
        "id": "wsogl9f-WLIh"
      },
      "execution_count": null,
      "outputs": []
    },
    {
      "cell_type": "code",
      "source": [
        "model_LPC=KNN(k=20)\n",
        "model_LPC.fit(train_x_dataset_LPC,train_y_dataset_LPC)\n",
        "pre=model_LPC.predict(test_x_dataset_LPC)"
      ],
      "metadata": {
        "id": "pv_8Ct7yWRn6"
      },
      "execution_count": null,
      "outputs": []
    },
    {
      "cell_type": "code",
      "source": [
        "acu_20=((sum(pre==test_y_dataset_LPC))/len(pre))*100\n",
        "acu_20"
      ],
      "metadata": {
        "id": "jb_Zi0a6WWbC"
      },
      "execution_count": null,
      "outputs": []
    },
    {
      "cell_type": "code",
      "source": [
        "acu_LPC=(acu_11+acu_15+acu_20)/3\n",
        "acu_LPC"
      ],
      "metadata": {
        "id": "qjtz2nxyWahZ"
      },
      "execution_count": null,
      "outputs": []
    }
  ],
  "metadata": {
    "colab": {
      "collapsed_sections": [],
      "name": "qustion3.ipynb",
      "provenance": [],
      "include_colab_link": true
    },
    "kernelspec": {
      "display_name": "Python 3",
      "name": "python3"
    },
    "language_info": {
      "name": "python"
    }
  },
  "nbformat": 4,
  "nbformat_minor": 0
}